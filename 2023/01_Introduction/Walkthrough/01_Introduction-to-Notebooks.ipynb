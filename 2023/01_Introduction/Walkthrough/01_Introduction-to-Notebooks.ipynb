{
 "cells": [
  {
   "cell_type": "markdown",
   "metadata": {
    "id": "view-in-github"
   },
   "source": [
    "<a href=\"https://colab.research.google.com/github/michalis0/DataMining_and_MachineLearning/blob/master/week2/Notebooks_Introduction.ipynb\" target=\"_parent\"><img src=\"https://colab.research.google.com/assets/colab-badge.svg\" alt=\"Open In Colab\"/></a>"
   ]
  },
  {
   "cell_type": "markdown",
   "metadata": {},
   "source": [
    "# Statistics and Data Science: Introduction to Notebooks\n",
    "\n",
    "<img src='https://media.makeameme.org/created/just-because-you-0328b2c4c3.jpg' width=\"400\">"
   ]
  },
  {
   "cell_type": "markdown",
   "metadata": {},
   "source": [
    "## Content\n",
    "\n",
    "The goal of this walkthrough is to allow you to familiarize yourself with Colab, Markdown, and the usage of Python.\n",
    "\n",
    "This notebook is organized as follows:\n",
    "- [Web scraping with Pandas](#Web-scraping-with-Pandas)\n",
    "    - [Your turn!](#Your-turn!)"
   ]
  },
  {
   "cell_type": "markdown",
   "metadata": {
    "id": "sPgLYyUIzy-L",
    "tags": []
   },
   "source": [
    "## Goals\n",
    "The goal of this notebook is to briefly introduce you to the main tools we will use in this practical seminar: Python code and markdown Notebooks.  The focus will be on using markdown to create interactive notebooks, which you can share with others.\n",
    "\n",
    "## Getting started\n",
    "\n",
    "**Notebooks** represent an interactive environment for writing and executing code, while at the same time also documenting the code with rich text. Here we review some elementary ways of creating your notebooks. \n",
    "\n",
    "We will be using **Google Colab**, which is a free notebook environment, that does not require any installations and uses Google servers to execute the code. You can simply run it in your browser, after you create a free Google account (if not yet done).\n",
    "\n",
    "To open a new notebook in Google Colab click [here](https://colab.research.google.com/) and then click on the \"New Notebook\" at the bottom right.\n",
    "\n",
    "You can open this notebook in Colab by clicking on the Open in Colab badge on top of the file. <a href=\"https://colab.research.google.com/github/michalis0/DataMining_and_MachineLearning/blob/master/week2/Notebooks_Introduction.ipynb\" target=\"_parent\"><img src=\"https://colab.research.google.com/assets/colab-badge.svg\" alt=\"Open In Colab\"/></a>\n",
    "\n",
    "A notebook consists of two kinds of cells: \n",
    "* cellls that contain executable **code** and\n",
    "* cells that contain **markdown (text)**. \n",
    "\n",
    "Here we'll provide a more detailed introduction to the text cells, while the following seminars we'll focus more on the code cells. \n",
    "\n",
    "Markdown syntax is very similar to HTML, but it is more simplified. Here are some additional introductory ressources:\n",
    "- Try markdown on your own in [Google Colab](https://colab.research.google.com/notebooks/markdown_guide.ipynb)\n",
    "- You can also find a more detailed and [lengthy introduction](https://about.gitlab.com/handbook/product/technical-writing/markdown-guide/).\n",
    "\n",
    "### Switching between Code and Text/Markdown\n",
    "\n",
    "- If you want to include markdown in a code cell, you can convert it to a text cell by pressing `control M M` (that is hold down the `control` key and press two times the letter `M`). \n",
    "- You can convert a text cell into a code cell using the shortcut `control M Y`."
   ]
  },
  {
   "cell_type": "code",
   "execution_count": null,
   "metadata": {
    "id": "hKSzCk0D4WrP"
   },
   "outputs": [],
   "source": []
  },
  {
   "cell_type": "markdown",
   "metadata": {
    "id": "kXvAgbBGzy-W"
   },
   "source": [
    "<div class=\"alert alert-block alert-info\">\n",
    "\n",
    "\n",
    "<h2>Shortcuts</h2>\n",
    "\n",
    "It's good to learn the following shortcuts:\n",
    "\n",
    "\n",
    "- Execute a cell: shift-enter on Mac (ctrl-enter for Windows)\n",
    "- Saving the notebook: command s on a Mac, (ctrl-s for Windows)\n",
    "- Change Cell types: ctrl M Y (code), ctrl M M (markdown)\n",
    "\n",
    "<h2>Saving & downloading your notebook</h2>\n",
    "\n",
    "You can save your notebook in your Google Drive using the Colab Menu > File > Save a copy in Drive (Google Drive), or directly in GitHub.\n",
    "\n",
    "You can also download the notebook using File>Download>  .ipynb (notebook format).\n",
    "\n",
    "</div>\n",
    "\n",
    "\n"
   ]
  },
  {
   "cell_type": "markdown",
   "metadata": {
    "id": "1fOAYOa3zy-X"
   },
   "source": [
    "## Basic Markdown\n",
    "\n",
    "## 1. Give your text title and subtitles\n",
    "\n",
    "Using markdown mode (text cell), to create a title use the `#` (hash) symbol. For example:\n",
    "\n",
    "> ```# My Project for this class```\n",
    "\n",
    "will be rendered as\n",
    "\n",
    "# My Project for this class\n",
    "\n",
    "<br></br>\n",
    "To create a smaller heading you use more hashes\n",
    "\n",
    "> ```### Introduction to the project```\n",
    "\n",
    "rendered as \n",
    "### Introduction to the project\n",
    "\n",
    "<br></br>\n",
    "\n",
    "## 2. Ordered and unordered lists\n",
    "\n",
    "It is also very easy to create numbered or unnumbered lists as follows:\n",
    "\n",
    "> ```\n",
    "- First itme\n",
    "- Second item\n",
    "- ...\n",
    "```\n",
    "\n",
    "rendered as \n",
    "- First item\n",
    "- Second item\n",
    "- ...\n",
    "\n",
    "or replace the \"-\" with numbers 1. 2. 3. for a numbered list\n",
    "\n",
    "If you want to create a second level indentation you can put 4 spaces before the `-` symbol, such as:\n",
    "\n",
    "- Bullet level 1\n",
    "    - Bullet level 2\n",
    "\n",
    "\n",
    "## 3. Check the code behind the markdown rendition\n",
    "If you want to see the original code of a text cell, just **double-click** on it.\n",
    "\n"
   ]
  },
  {
   "cell_type": "markdown",
   "metadata": {
    "id": "Oki34eaYzy-Y"
   },
   "source": [
    "## HTML  or inline markdown\n",
    "\n",
    "## 4. Insert Images\n",
    "In a notebook text cell, you may also enter HTML code like this:\n",
    "\n",
    "```html\n",
    "<img src='https://upload.wikimedia.org/wikipedia/commons/7/77/Logo_HEC_Lausanne.png' width=\"200\">\n",
    "```\n",
    "\n",
    "which will give the following\n",
    "\n",
    "<img src='https://upload.wikimedia.org/wikipedia/commons/7/77/Logo_HEC_Lausanne.png' width=\"200\">\n",
    "\n",
    "Alternatively, you may insert an image inline as follows\n",
    "\n",
    "```\n",
    "![Python Logo](https://upload.wikimedia.org/wikipedia/commons/c/c3/Python-logo-notext.svg)\n",
    "```\n",
    "which will be rendered as\n",
    "![Python Logo](https://upload.wikimedia.org/wikipedia/commons/c/c3/Python-logo-notext.svg)\n",
    "\n",
    "\n",
    "Or you can use HTML code in a *code cell* this time, adding the %%HTML as shown below."
   ]
  },
  {
   "cell_type": "code",
   "execution_count": null,
   "metadata": {
    "colab": {
     "base_uri": "https://localhost:8080/",
     "height": 183
    },
    "id": "zcl_cyoL_-ez",
    "outputId": "5a6aef4e-b9e8-4b08-bd49-bfe98851680c"
   },
   "outputs": [],
   "source": [
    "%%HTML\n",
    "<figure>\n",
    "<img src='https://upload.wikimedia.org/wikipedia/commons/c/c3/Python-logo-notext.svg' style='width:10%'\n",
    "<figcaption align='center'>Python Logo</figcaption>\n",
    "</figure>"
   ]
  },
  {
   "cell_type": "markdown",
   "metadata": {
    "id": "3JgXnkZ5yUE7"
   },
   "source": [
    "### 5. Insert weblinks\n",
    "\n",
    "And you can also create weblinks if you want to point to a page outside the document, such as using [Azure Notebooks](https://notebooks.azure.com/Microsoft/projects/2018-Intro-Python) for running notebooks on the cloud.\n",
    "\n",
    "The code for this one is \n",
    "```\n",
    "[Azure Notebooks](https://notebooks.azure.com/Microsoft/projects/2018-Intro-Python)\n",
    "```\n"
   ]
  },
  {
   "cell_type": "markdown",
   "metadata": {
    "id": "FLquNK2Wzy-Y"
   },
   "source": [
    "### 6. Create tables\n",
    "\n",
    "Below is an example of a table in markdown:\n",
    "\n",
    "```\n",
    "First column name | Second column name\n",
    "--- | ---\n",
    "Row 1, Col 1 | Row 1, Col 2\n",
    "Row 2, Col 1 | Row 2, Col 2\n",
    "```\n",
    "\n",
    "which will show as\n",
    "\n",
    "First column name | Second column name\n",
    "--- | ---\n",
    "Row 1, Col 1 | Row 1, Col 2\n",
    "Row 2, Col 1 | Row 2, Col 2\n",
    "\n",
    "If you want to make your life easier, you can also use this [online table generator](https://www.tablesgenerator.com/markdown_tables). You can easily create your table using visual tools and then it will generate the markdown code for you.\n",
    "\n",
    "\n",
    "### 7. Math Expressions\n",
    "\n",
    "It is also very easy to insert mathematial equations, so that you can describe the mathematics of your solution to a problem:\n",
    "\n",
    "$$c = \\sqrt{a^2 + b^2}$$\n",
    "\n",
    "which is written, if you are familiar with Latex, as follows:\n",
    "\n",
    "```\n",
    "$$c = \\sqrt{a^2 + b^2}$$\n",
    "```"
   ]
  },
  {
   "cell_type": "markdown",
   "metadata": {
    "id": "znLsR2o6zy-Z"
   },
   "source": [
    "### 8. Embedding videos\n",
    "\n",
    "Of course, you can insert in your notebook text videos. Below we give you several options to choose from, using code cells."
   ]
  },
  {
   "cell_type": "code",
   "execution_count": null,
   "metadata": {
    "colab": {
     "base_uri": "https://localhost:8080/",
     "height": 321
    },
    "id": "3n38rCtMzy-a",
    "outputId": "71b3fec3-7f01-47ba-c668-e27f195e9553"
   },
   "outputs": [],
   "source": [
    "from IPython.lib.display import YouTubeVideo\n",
    "YouTubeVideo('HW29067qVWk')"
   ]
  },
  {
   "cell_type": "markdown",
   "metadata": {
    "id": "uwNx1wmzzy-e"
   },
   "source": [
    "You can also embed a video using solely HTML:\n",
    "\n",
    "```\n",
    "%%HTML\n",
    "<iframe width=\"560\" src=\"https://www.youtube.com/embed/inN8seMm7UI\"></iframe>```"
   ]
  },
  {
   "cell_type": "code",
   "execution_count": null,
   "metadata": {
    "colab": {
     "base_uri": "https://localhost:8080/",
     "height": 365
    },
    "id": "EcHteR34zy-f",
    "outputId": "82888bda-aaf2-4f7d-8509-aaceacbe7183"
   },
   "outputs": [],
   "source": [
    "%%HTML\n",
    "<iframe width=\"560\" height=\"340\" src=\"https://www.youtube.com/embed/inN8seMm7UI\"></iframe>"
   ]
  },
  {
   "cell_type": "markdown",
   "metadata": {
    "id": "1rUC0yR6Ds18"
   },
   "source": [
    "### 9. Adding horizontal lines and blockquotes\n",
    "\n",
    "You can divide the flow your text using horizontal lines like so\n",
    "\n",
    "```\n",
    "--- \n",
    "```\n",
    "\n",
    "---\n",
    "And if you find an inspiring phrase to quote go for the `>` right in from of the quote.\n",
    "\n",
    "> “When working with data, I discover what I really want to say.”\n",
    "― Damian Mingle"
   ]
  },
  {
   "cell_type": "markdown",
   "metadata": {
    "id": "12u-koFyzy-r"
   },
   "source": [
    "### 10. Getting Help Interactively\n",
    "\n",
    "If you are writing some Python code in a code cell, and you don't remember what is the exact attribute, you can use some of the autocomplete features:\n",
    "\n",
    "> ```python\n",
    "import pandas as pd\n",
    "df = pd.\n",
    "```\n",
    "\n",
    "Now wait a bit and you will see a list of possible functions. If you continue typing such as `DataFrame(` (make sure you open the parenthesis...) you will see a definition of the function, ie what parameters it should expect. \n",
    "\n",
    "Try it on your own:"
   ]
  },
  {
   "cell_type": "code",
   "execution_count": null,
   "metadata": {
    "id": "6HuyLUmuzy-s"
   },
   "outputs": [],
   "source": [
    "import pandas as pd"
   ]
  },
  {
   "cell_type": "code",
   "execution_count": null,
   "metadata": {
    "id": "lkSRxgh4zy-u"
   },
   "outputs": [],
   "source": [
    "# delete the . and retype it...\n",
    "# pd."
   ]
  },
  {
   "cell_type": "markdown",
   "metadata": {
    "id": "OuyPgVfU7kZQ"
   },
   "source": [
    "Also possible to use the `help` function to access information for example on the parameters of a function and what the function does. Or read the [documentation page](https://pandas.pydata.org/docs/reference/api/pandas.read_csv.html)."
   ]
  },
  {
   "cell_type": "code",
   "execution_count": null,
   "metadata": {
    "colab": {
     "base_uri": "https://localhost:8080/"
    },
    "id": "_gpU1Pae7OyC",
    "outputId": "8f7322a0-426d-438e-a3e7-933b9acff0f1"
   },
   "outputs": [],
   "source": [
    "help(pd.read_csv)"
   ]
  },
  {
   "cell_type": "markdown",
   "metadata": {
    "id": "huzxlXwwzy-i"
   },
   "source": [
    "## Advanced features\n",
    "\n",
    "## Interactive Components\n",
    "\n",
    "You can connect your existing Python code with interactive components, such as button, sliders,...\n",
    "\n",
    "The following code will convert inches to cm, using an interactive slider.\n"
   ]
  },
  {
   "cell_type": "code",
   "execution_count": null,
   "metadata": {
    "colab": {
     "base_uri": "https://localhost:8080/",
     "height": 67,
     "referenced_widgets": [
      "06234e05bfca432d937b4638d6186304",
      "08b544510bf34e199b14fe3877885cb1",
      "485069e2983b41e88d632ebb2411ee53",
      "cdbb807e5c84463183d654bd1ae30d78",
      "a160d7d1a16d489a9e796551d931550b",
      "442f1746cd4c4919afb9e222f1d78b06",
      "b4a9956c76464704aa7e998db8983c58"
     ]
    },
    "id": "skUIXIBtzy-j",
    "outputId": "72d0b2bf-edac-4e0d-8298-e35a8b81bd89"
   },
   "outputs": [],
   "source": [
    "from ipywidgets import interact\n",
    "\n",
    "def inches_to_cm(inches=2):\n",
    "    return '%.2f inches is %.2f cm' % (inches, inches*2.54)\n",
    "\n",
    "interact(inches_to_cm, inches=(0,8,1));\n"
   ]
  },
  {
   "cell_type": "markdown",
   "metadata": {
    "id": "cuVSd5Qczy-n"
   },
   "source": [
    "You can find a list of available widgets [here](https://ipywidgets.readthedocs.io/en/stable/examples/Widget%20List.html) and you may read an article with more [advanced applications](https://towardsdatascience.com/interactive-controls-for-jupyter-notebooks-f5c94829aee6) of the widgets. \n"
   ]
  },
  {
   "cell_type": "markdown",
   "metadata": {
    "id": "Xqfs6Uvkzy-o"
   },
   "source": [
    "## Graphs\n",
    "\n",
    "  In a notebook you can also embed graphs from the analysis of your dataset, including barcharts, scatterplots, piecharts, jointplots and others. For this we mainly use [matplotlib](https://matplotlib.org/) library which is a powerful library for creating visualizations in Python.\n",
    "\n",
    "  __Important: If you want your plots to be rendered in the notebook, you should add the line containing `%matplotlib inline` to your notebook.__"
   ]
  },
  {
   "cell_type": "code",
   "execution_count": null,
   "metadata": {
    "colab": {
     "base_uri": "https://localhost:8080/",
     "height": 452
    },
    "id": "vo0fNXiYzy-o",
    "outputId": "c3be36a6-778b-4c42-de82-ddefa7a98481"
   },
   "outputs": [],
   "source": [
    "%matplotlib inline\n",
    "import matplotlib.pyplot as plt; plt.rcdefaults()\n",
    "import numpy as np\n",
    "import matplotlib.pyplot as plt\n",
    "\n",
    "objects = ('Python', 'C++', 'Java', 'Perl', 'Scala', 'Lisp')\n",
    "y_pos = np.arange(len(objects))\n",
    "usage = [10,8,6,4,2,1]\n",
    "\n",
    "plt.bar(y_pos, usage, align='center', alpha=0.5)\n",
    "plt.xticks(y_pos, objects)\n",
    "plt.ylabel('Usage')\n",
    "plt.title('Programming language usage')\n",
    "\n",
    "plt.show()"
   ]
  },
  {
   "cell_type": "markdown",
   "metadata": {
    "id": "qCRZBhg6zy-y"
   },
   "source": [
    "### Measuring time\n",
    "\n",
    "Many times, you will try various versions of your Python code and try to optimize it, i.e., make it run faster. How do you know that some different code is faster than your existing?\n",
    "\n",
    "A very useful 'magic' command is the ```timeit``` which let's you measure the time it takes to run a command, or all the commands in a cell. Such a command will help you try different versions of your code and identify the most efficient variant. You can reach the same destination via multiple paths, but some are faster than others!"
   ]
  },
  {
   "cell_type": "code",
   "execution_count": null,
   "metadata": {
    "colab": {
     "base_uri": "https://localhost:8080/"
    },
    "id": "Yzcy0fVZzy-y",
    "outputId": "52037449-5508-4cce-d4ff-6fe371f66024"
   },
   "outputs": [],
   "source": [
    "%timeit l = [k for k in range(10**6)]"
   ]
  },
  {
   "cell_type": "markdown",
   "metadata": {
    "id": "bgawVTcrzy-q"
   },
   "source": [
    "## More tutorials\n",
    "\n",
    "I recommend that you also go over some of the notebook and Python tutorials below. The first link contains tutorials about Markdown and Jupyter notebooks in Google Colab and Azure Notebooks. The rest are general tutorials.\n",
    "\n",
    "- https://colab.research.google.com/\n",
    "- https://notebooks.azure.com/wesm/projects/python-for-data-analysis\n",
    "- [http://mbakker7.github.io/exploratory_computing_with_python/](http://mbakker7.github.io/exploratory_computing_with_python/)\n",
    "\n",
    "- [A gallery of interesting Jupyter notebooks](https://github.com/jupyter/jupyter/wiki/A-gallery-of-interesting-Jupyter-Notebooks#pandas-for-data-analysis)"
   ]
  },
  {
   "cell_type": "code",
   "execution_count": null,
   "metadata": {},
   "outputs": [],
   "source": []
  }
 ],
 "metadata": {
  "colab": {
   "collapsed_sections": [],
   "name": "Notebooks_Introduction.ipynb",
   "provenance": []
  },
  "kernelspec": {
   "display_name": "Python 3 (ipykernel)",
   "language": "python",
   "name": "python3"
  },
  "language_info": {
   "codemirror_mode": {
    "name": "ipython",
    "version": 3
   },
   "file_extension": ".py",
   "mimetype": "text/x-python",
   "name": "python",
   "nbconvert_exporter": "python",
   "pygments_lexer": "ipython3",
   "version": "3.11.3"
  },
  "nteract": {
   "version": "0.21.0"
  },
  "toc": {
   "base_numbering": 1,
   "nav_menu": {},
   "number_sections": true,
   "sideBar": true,
   "skip_h1_title": false,
   "title_cell": "Table of Contents",
   "title_sidebar": "Contents",
   "toc_cell": false,
   "toc_position": {},
   "toc_section_display": true,
   "toc_window_display": false
  },
  "widgets": {
   "application/vnd.jupyter.widget-state+json": {
    "06234e05bfca432d937b4638d6186304": {
     "model_module": "@jupyter-widgets/controls",
     "model_module_version": "1.5.0",
     "model_name": "VBoxModel",
     "state": {
      "_dom_classes": [
       "widget-interact"
      ],
      "_model_module": "@jupyter-widgets/controls",
      "_model_module_version": "1.5.0",
      "_model_name": "VBoxModel",
      "_view_count": null,
      "_view_module": "@jupyter-widgets/controls",
      "_view_module_version": "1.5.0",
      "_view_name": "VBoxView",
      "box_style": "",
      "children": [
       "IPY_MODEL_485069e2983b41e88d632ebb2411ee53",
       "IPY_MODEL_cdbb807e5c84463183d654bd1ae30d78"
      ],
      "layout": "IPY_MODEL_08b544510bf34e199b14fe3877885cb1"
     }
    },
    "08b544510bf34e199b14fe3877885cb1": {
     "model_module": "@jupyter-widgets/base",
     "model_module_version": "1.2.0",
     "model_name": "LayoutModel",
     "state": {
      "_model_module": "@jupyter-widgets/base",
      "_model_module_version": "1.2.0",
      "_model_name": "LayoutModel",
      "_view_count": null,
      "_view_module": "@jupyter-widgets/base",
      "_view_module_version": "1.2.0",
      "_view_name": "LayoutView",
      "align_content": null,
      "align_items": null,
      "align_self": null,
      "border": null,
      "bottom": null,
      "display": null,
      "flex": null,
      "flex_flow": null,
      "grid_area": null,
      "grid_auto_columns": null,
      "grid_auto_flow": null,
      "grid_auto_rows": null,
      "grid_column": null,
      "grid_gap": null,
      "grid_row": null,
      "grid_template_areas": null,
      "grid_template_columns": null,
      "grid_template_rows": null,
      "height": null,
      "justify_content": null,
      "justify_items": null,
      "left": null,
      "margin": null,
      "max_height": null,
      "max_width": null,
      "min_height": null,
      "min_width": null,
      "object_fit": null,
      "object_position": null,
      "order": null,
      "overflow": null,
      "overflow_x": null,
      "overflow_y": null,
      "padding": null,
      "right": null,
      "top": null,
      "visibility": null,
      "width": null
     }
    },
    "442f1746cd4c4919afb9e222f1d78b06": {
     "model_module": "@jupyter-widgets/base",
     "model_module_version": "1.2.0",
     "model_name": "LayoutModel",
     "state": {
      "_model_module": "@jupyter-widgets/base",
      "_model_module_version": "1.2.0",
      "_model_name": "LayoutModel",
      "_view_count": null,
      "_view_module": "@jupyter-widgets/base",
      "_view_module_version": "1.2.0",
      "_view_name": "LayoutView",
      "align_content": null,
      "align_items": null,
      "align_self": null,
      "border": null,
      "bottom": null,
      "display": null,
      "flex": null,
      "flex_flow": null,
      "grid_area": null,
      "grid_auto_columns": null,
      "grid_auto_flow": null,
      "grid_auto_rows": null,
      "grid_column": null,
      "grid_gap": null,
      "grid_row": null,
      "grid_template_areas": null,
      "grid_template_columns": null,
      "grid_template_rows": null,
      "height": null,
      "justify_content": null,
      "justify_items": null,
      "left": null,
      "margin": null,
      "max_height": null,
      "max_width": null,
      "min_height": null,
      "min_width": null,
      "object_fit": null,
      "object_position": null,
      "order": null,
      "overflow": null,
      "overflow_x": null,
      "overflow_y": null,
      "padding": null,
      "right": null,
      "top": null,
      "visibility": null,
      "width": null
     }
    },
    "485069e2983b41e88d632ebb2411ee53": {
     "model_module": "@jupyter-widgets/controls",
     "model_module_version": "1.5.0",
     "model_name": "IntSliderModel",
     "state": {
      "_dom_classes": [],
      "_model_module": "@jupyter-widgets/controls",
      "_model_module_version": "1.5.0",
      "_model_name": "IntSliderModel",
      "_view_count": null,
      "_view_module": "@jupyter-widgets/controls",
      "_view_module_version": "1.5.0",
      "_view_name": "IntSliderView",
      "continuous_update": true,
      "description": "inches",
      "description_tooltip": null,
      "disabled": false,
      "layout": "IPY_MODEL_442f1746cd4c4919afb9e222f1d78b06",
      "max": 8,
      "min": 0,
      "orientation": "horizontal",
      "readout": true,
      "readout_format": "d",
      "step": 1,
      "style": "IPY_MODEL_a160d7d1a16d489a9e796551d931550b",
      "value": 5
     }
    },
    "a160d7d1a16d489a9e796551d931550b": {
     "model_module": "@jupyter-widgets/controls",
     "model_module_version": "1.5.0",
     "model_name": "SliderStyleModel",
     "state": {
      "_model_module": "@jupyter-widgets/controls",
      "_model_module_version": "1.5.0",
      "_model_name": "SliderStyleModel",
      "_view_count": null,
      "_view_module": "@jupyter-widgets/base",
      "_view_module_version": "1.2.0",
      "_view_name": "StyleView",
      "description_width": "",
      "handle_color": null
     }
    },
    "b4a9956c76464704aa7e998db8983c58": {
     "model_module": "@jupyter-widgets/base",
     "model_module_version": "1.2.0",
     "model_name": "LayoutModel",
     "state": {
      "_model_module": "@jupyter-widgets/base",
      "_model_module_version": "1.2.0",
      "_model_name": "LayoutModel",
      "_view_count": null,
      "_view_module": "@jupyter-widgets/base",
      "_view_module_version": "1.2.0",
      "_view_name": "LayoutView",
      "align_content": null,
      "align_items": null,
      "align_self": null,
      "border": null,
      "bottom": null,
      "display": null,
      "flex": null,
      "flex_flow": null,
      "grid_area": null,
      "grid_auto_columns": null,
      "grid_auto_flow": null,
      "grid_auto_rows": null,
      "grid_column": null,
      "grid_gap": null,
      "grid_row": null,
      "grid_template_areas": null,
      "grid_template_columns": null,
      "grid_template_rows": null,
      "height": null,
      "justify_content": null,
      "justify_items": null,
      "left": null,
      "margin": null,
      "max_height": null,
      "max_width": null,
      "min_height": null,
      "min_width": null,
      "object_fit": null,
      "object_position": null,
      "order": null,
      "overflow": null,
      "overflow_x": null,
      "overflow_y": null,
      "padding": null,
      "right": null,
      "top": null,
      "visibility": null,
      "width": null
     }
    },
    "cdbb807e5c84463183d654bd1ae30d78": {
     "model_module": "@jupyter-widgets/output",
     "model_module_version": "1.0.0",
     "model_name": "OutputModel",
     "state": {
      "_dom_classes": [],
      "_model_module": "@jupyter-widgets/output",
      "_model_module_version": "1.0.0",
      "_model_name": "OutputModel",
      "_view_count": null,
      "_view_module": "@jupyter-widgets/output",
      "_view_module_version": "1.0.0",
      "_view_name": "OutputView",
      "layout": "IPY_MODEL_b4a9956c76464704aa7e998db8983c58",
      "msg_id": "",
      "outputs": [
       {
        "application/vnd.google.colaboratory.intrinsic+json": {
         "type": "string"
        },
        "metadata": {
         "tags": []
        },
        "output_type": "display_data",
        "text/plain": "'5.00 inches is 12.70 cm'"
       }
      ]
     }
    }
   }
  }
 },
 "nbformat": 4,
 "nbformat_minor": 4
}
